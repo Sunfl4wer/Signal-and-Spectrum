{
 "cells": [
  {
   "cell_type": "code",
   "execution_count": null,
   "metadata": {},
   "outputs": [],
   "source": [
    "# GUI for realtime\n",
    "import sys\n",
    "import pyqtgraph as pg\n",
    "from pyqtgraph.Qt import QtGui, QtCore\n",
    "%gui qt\n",
    "\n",
    "# Plot graph in notebook\n",
    "import matplotlib.pyplot as plt\n",
    "\n",
    "# Processing\n",
    "from cmath import exp, pi # cmath for complex number \n",
    "import numpy as np\n",
    "import pyaudio\n",
    "\n",
    "# Performance\n",
    "import time\n",
    "\n",
    "# Checking fft and stft\n",
    "import scipy.signal as signal\n",
    "from scipy.fftpack import fft"
   ]
  },
  {
   "cell_type": "markdown",
   "metadata": {},
   "source": [
    "## 1. Generate signal "
   ]
  },
  {
   "cell_type": "code",
   "execution_count": null,
   "metadata": {},
   "outputs": [],
   "source": [
    "# unitstep function\n",
    "def rect_func(x, k):\n",
    "    res = []\n",
    "    N = len(x)\n",
    "    for i in x:\n",
    "        if i <= k:\n",
    "            res.append(0)\n",
    "        else:\n",
    "            res.append(1)\n",
    "    return np.array(res)"
   ]
  },
  {
   "cell_type": "code",
   "execution_count": null,
   "metadata": {},
   "outputs": [],
   "source": [
    "# Generate signal \n",
    "fs = 1024                      # sampling rate\n",
    "t = np.arange(0, 2, 1/fs)      # time \n",
    "# Signal\n",
    "x = np.sin(2*pi*10*t) + \\\n",
    "    np.sin(2*pi*20*t)*rect_func(t, 0.3) + \\\n",
    "    np.sin(2*pi*50*t)*rect_func(t, 0.6) + \\\n",
    "    np.sin(2*pi*100*t)*rect_func(t, 1) + \\\n",
    "    np.sin(2*pi*200*t)*rect_func(t, 1.3) + \\\n",
    "    np.sin(2*pi*400*t)*rect_func(t, 1.6)\n",
    "# Plot signal in time domains\n",
    "plt.plot(t, x)\n",
    "plt.title(\"Waveform\")\n",
    "plt.xlabel('Time(s)')\n",
    "plt.ylabel('Amplitude')"
   ]
  },
  {
   "cell_type": "markdown",
   "metadata": {},
   "source": [
    "## 2. FFT and Spectrum"
   ]
  },
  {
   "cell_type": "code",
   "execution_count": null,
   "metadata": {},
   "outputs": [],
   "source": [
    "# N muse be a 2**n integers \n",
    "def compute_fft(x):\n",
    "    N = len(x)\n",
    "    if N <= 1:\n",
    "        return x\n",
    "    even = compute_fft(x[0::2])\n",
    "    odd = compute_fft(x[1::2])\n",
    "    \n",
    "    T = [exp(-2j*pi*k/N)*odd[k] for k in range(N//2)]\n",
    "    return np.array([even[k] + T[k] for k in range(N//2)] + [even[k] - T[k] for k in range(N//2)])"
   ]
  },
  {
   "cell_type": "code",
   "execution_count": null,
   "metadata": {},
   "outputs": [],
   "source": [
    "# Plot spectrum of the signal using compute_fft function\n",
    "n = len(t)\n",
    "# Frequency axis - max frequency is fs/2 (Nyquist rate)\n",
    "# n/2 because only need 1-sided spectrum\n",
    "freqs = (fs/2)*np.linspace(0, 1, n/2)\n",
    "X = compute_fft(x)\n",
    "X_m = np.array(X[0:int(n/2)])\n",
    "# Plot signal in frequency domain\n",
    "plt.plot(freqs, (2/n)*abs(X_m))\n",
    "plt.title('Spectrum')\n",
    "plt.xlabel('Frequency(Hz)')\n",
    "plt.ylabel('Magnitude')"
   ]
  },
  {
   "cell_type": "markdown",
   "metadata": {},
   "source": [
    "## 3. STFT and Spectrogram"
   ]
  },
  {
   "cell_type": "code",
   "execution_count": null,
   "metadata": {},
   "outputs": [],
   "source": [
    "# frameSamples must be a 2^n integers - FFT alogirthms\n",
    "def compute_stft(x, frameSamples, newSamples):\n",
    "    X = []\n",
    "    # number of windows\n",
    "    oneside = int(frameSamples/2) +1\n",
    "    k = int((len(x) - frameSamples)/(frameSamples - newSamples))+1\n",
    "    for i in range(0, k):\n",
    "        start = i*(frameSamples-newSamples)\n",
    "        X.append(compute_fft(x[start:start+frameSamples])[0:oneside])\n",
    "    X = np.array(X).T\n",
    "    return X/frameSamples"
   ]
  },
  {
   "cell_type": "code",
   "execution_count": null,
   "metadata": {},
   "outputs": [],
   "source": [
    "# Plot spectrogram using stft\n",
    "Y = compute_stft(x, 128, 64)\n",
    "shapeY = Y.shape\n",
    "# print(Y.shape)\n",
    "freqs = np.linspace(0, fs/2, shapeY[0])\n",
    "# print(len(freqs))\n",
    "tx = np.linspace(0, len(x)/fs, shapeY[1]) \n",
    "plt.pcolormesh(tx, freqs, np.abs(Y))\n",
    "plt.title('Spectrogram')\n",
    "plt.xlabel('Time (seconds)')\n",
    "plt.ylabel('Frequency (Hz)')"
   ]
  },
  {
   "cell_type": "markdown",
   "metadata": {},
   "source": [
    "## 4. Waveform and Spectrum of voice in real-time"
   ]
  },
  {
   "cell_type": "markdown",
   "metadata": {},
   "source": [
    "### a. Read and convert voice data"
   ]
  },
  {
   "cell_type": "code",
   "execution_count": null,
   "metadata": {},
   "outputs": [],
   "source": [
    "CHUNK = 1024              # number of samples for each time analyze\n",
    "FORMAT = pyaudio.paInt16  # 2 bytes per sample\n",
    "CHANNELS = 1              # single channel (left)\n",
    "RATE = 44100              # sampling rate\n",
    "STFT_FFT = 128            # number of points using for stft\n",
    "N_OVERLAP = 64             # number of points overlap in stft"
   ]
  },
  {
   "cell_type": "code",
   "execution_count": null,
   "metadata": {},
   "outputs": [],
   "source": [
    "# Stream a buffer of voice data from microphone\n",
    "voice = pyaudio.PyAudio()\n",
    "stream = voice.open(format = FORMAT,\n",
    "                    channels = CHANNELS,\n",
    "                    rate = RATE,\n",
    "                    input = True,\n",
    "                    output = True,\n",
    "                    frames_per_buffer = CHUNK)"
   ]
  },
  {
   "cell_type": "code",
   "execution_count": 2,
   "metadata": {},
   "outputs": [],
   "source": [
    "%run -i signal_and_spectrum.py"
   ]
  },
  {
   "cell_type": "code",
   "execution_count": 1,
   "metadata": {},
   "outputs": [
    {
     "name": "stderr",
     "output_type": "stream",
     "text": [
      "spectrogram.py:25: DeprecationWarning: The binary mode of fromstring is deprecated, as it behaves surprisingly on unicode inputs. Use frombuffer instead\n",
      "  y = np.fromstring(data, 'int16')\n"
     ]
    }
   ],
   "source": [
    "%run -i spectrogram.py"
   ]
  },
  {
   "cell_type": "code",
   "execution_count": null,
   "metadata": {},
   "outputs": [],
   "source": []
  },
  {
   "cell_type": "code",
   "execution_count": null,
   "metadata": {},
   "outputs": [],
   "source": []
  },
  {
   "cell_type": "code",
   "execution_count": null,
   "metadata": {},
   "outputs": [],
   "source": []
  },
  {
   "cell_type": "code",
   "execution_count": null,
   "metadata": {},
   "outputs": [],
   "source": []
  },
  {
   "cell_type": "code",
   "execution_count": null,
   "metadata": {},
   "outputs": [],
   "source": []
  },
  {
   "cell_type": "code",
   "execution_count": null,
   "metadata": {},
   "outputs": [],
   "source": []
  },
  {
   "cell_type": "code",
   "execution_count": null,
   "metadata": {},
   "outputs": [],
   "source": []
  }
 ],
 "metadata": {
  "kernelspec": {
   "display_name": "Python 3",
   "language": "python",
   "name": "python3"
  },
  "language_info": {
   "codemirror_mode": {
    "name": "ipython",
    "version": 3
   },
   "file_extension": ".py",
   "mimetype": "text/x-python",
   "name": "python",
   "nbconvert_exporter": "python",
   "pygments_lexer": "ipython3",
   "version": "3.6.8"
  }
 },
 "nbformat": 4,
 "nbformat_minor": 2
}
